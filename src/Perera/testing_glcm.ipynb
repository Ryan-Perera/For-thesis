{
 "cells": [
  {
   "attachments": {},
   "cell_type": "markdown",
   "metadata": {},
   "source": [
    "This file will test which comnination of GLCM features provide the highest accuracy"
   ]
  },
  {
   "cell_type": "code",
   "execution_count": null,
   "metadata": {},
   "outputs": [],
   "source": [
    "import math \n",
    "import os\n",
    "import json\n",
    "import csv\n",
    "import cv2 as cv\n",
    "import numpy as np\n",
    "import pandas as pd\n",
    "import matplotlib.pyplot as plt\n",
    "from sklearn.svm import SVC\n",
    "from skimage.feature import graycoprops, graycomatrix, local_binary_pattern, hog\n",
    "from sklearn.metrics import classification_report\n",
    "from sklearn.model_selection import train_test_split\n",
    "from skimage import data, exposure, io\n",
    "from sklearn.preprocessing import StandardScaler\n",
    "from itertools import combinations"
   ]
  },
  {
   "cell_type": "code",
   "execution_count": null,
   "metadata": {},
   "outputs": [],
   "source": [
    "#updated json file path\n",
    "updated_json_file = r\"C:\\Users\\mdrsp\\Desktop\\School\\For thesis\\spv_images\\InfraredSolarModules\\module_metadata_update.json\"\n",
    "\n",
    "# images folder path\n",
    "path_2_images = r\"C:\\Users\\mdrsp\\Desktop\\School\\For thesis\\spv_images\\InfraredSolarModules\"\n",
    "\n",
    "# path to any image\n",
    "sample_img = r\"C:\\Users\\mdrsp\\Desktop\\School\\For thesis\\spv_images\\InfraredSolarModules\\images\\0.jpg\"\n",
    "\n",
    "def path2img(path):\n",
    "    img = io.imread(path,as_gray=True)\n",
    "    return img"
   ]
  },
  {
   "cell_type": "code",
   "execution_count": 39,
   "metadata": {},
   "outputs": [],
   "source": [
    "def glcm_features(img,features=['contrast', 'dissimilarity', 'homogeneity', 'ASM', 'correlation', 'energy']):    \n",
    "    # Calculate the GLCM\n",
    "    glcm = graycomatrix(img, distances=[1,2,3], angles=[0, np.pi/4, np.pi/2, 3*np.pi/4], levels=256, symmetric=True, normed=True)\n",
    "    feature_vector = []\n",
    "    for feature in features:\n",
    "        feature_value = graycoprops(glcm, feature)\n",
    "        feature_vector.append(feature_value)\n",
    "    return feature_vector\n"
   ]
  },
  {
   "cell_type": "code",
   "execution_count": null,
   "metadata": {},
   "outputs": [],
   "source": [
    "print(glcm_features(path2img(sample_img),['contrast','dissimilarity','homogeneity']))"
   ]
  },
  {
   "cell_type": "code",
   "execution_count": 47,
   "metadata": {},
   "outputs": [],
   "source": [
    "# save teh GLCM values of the 20k images into arrays\n",
    "file = open(updated_json_file)\n",
    "data = json.load(file)\n",
    "\n",
    "anomaly_list = []\n",
    "feature_list = []\n",
    "\n",
    "os.chdir(path_2_images)\n",
    "for key,value in data.items():\n",
    "    current_img_path = value['image_filepath']\n",
    "    anomaly = value['anomaly_class']\n",
    "\n",
    "    img = path2img(current_img_path)\n",
    "     \n",
    "    feature_list.append(glcm_features(img))\n",
    "    anomaly_list.append(anomaly) "
   ]
  },
  {
   "cell_type": "code",
   "execution_count": 54,
   "metadata": {},
   "outputs": [],
   "source": [
    "def get_features(values,features= ['contrast', 'dissimilarity', 'homogeneity', 'ASM', 'correlation', 'energy']):\n",
    "    new_values = []\n",
    "    for row in values:\n",
    "        temp = []\n",
    "        temp.append(row[0]) if 'contrast' in features else None\n",
    "        temp.append(row[1]) if 'dissimilarity' in features else None\n",
    "        temp.append(row[2]) if 'homogeneity' in features else None\n",
    "        temp.append(row[3]) if 'ASM' in features else None\n",
    "        temp.append(row[4]) if 'correlation' in features else None\n",
    "        temp.append(row[5]) if 'energy' in features else None\n",
    "        temp = np.ravel(temp)\n",
    "        new_values.append(temp)\n",
    "    return np.array(new_values)"
   ]
  },
  {
   "cell_type": "code",
   "execution_count": 58,
   "metadata": {},
   "outputs": [],
   "source": [
    "feature_vector = get_features(feature_list) # the list of glcm values to be used for training\n",
    "\n",
    "images = np.array(feature_vector)\n",
    "labels = np.array(anomaly_list)"
   ]
  },
  {
   "cell_type": "code",
   "execution_count": 59,
   "metadata": {},
   "outputs": [
    {
     "name": "stdout",
     "output_type": "stream",
     "text": [
      "[4.71097826e+01 8.17179487e+01 4.38974359e+01 8.14894091e+01\n",
      " 1.55646591e+02 8.17179487e+01 1.16151316e+02 8.14894091e+01\n",
      " 2.68089286e+02 2.31035885e+02 1.81272523e+02 2.30721292e+02\n",
      " 4.61847826e+00 6.57859532e+00 4.69230769e+00 6.32998885e+00\n",
      " 8.30113636e+00 6.57859532e+00 8.10745614e+00 6.32998885e+00\n",
      " 1.06988095e+01 1.12559809e+01 1.05990991e+01 1.09007177e+01\n",
      " 2.39705537e-01 1.47954025e-01 2.03650099e-01 1.62216918e-01\n",
      " 1.39733351e-01 1.47954025e-01 1.21477118e-01 1.62216918e-01\n",
      " 1.28447440e-01 9.73752777e-02 8.50137335e-02 1.02454777e-01\n",
      " 1.63220699e-03 1.32735279e-03 1.55747772e-03 1.32300285e-03\n",
      " 1.30488120e-03 1.32735279e-03 1.15239785e-03 1.32300285e-03\n",
      " 1.29109977e-03 1.08099059e-03 1.08617908e-03 1.15396282e-03\n",
      " 9.53694801e-01 9.15020146e-01 9.57824915e-01 9.15239210e-01\n",
      " 8.38955348e-01 9.15020146e-01 8.83696362e-01 9.15239210e-01\n",
      " 7.20720397e-01 7.32336679e-01 8.12544451e-01 7.33302142e-01\n",
      " 4.04005816e-02 3.64328532e-02 3.94648922e-02 3.63731061e-02\n",
      " 3.61231394e-02 3.64328532e-02 3.39469859e-02 3.63731061e-02\n",
      " 3.59318768e-02 3.28784214e-02 3.29572311e-02 3.39700283e-02]\n"
     ]
    }
   ],
   "source": [
    "print(images[0])"
   ]
  },
  {
   "cell_type": "code",
   "execution_count": 57,
   "metadata": {},
   "outputs": [
    {
     "name": "stdout",
     "output_type": "stream",
     "text": [
      "Accuracy: 0.531\n"
     ]
    }
   ],
   "source": [
    "X_train, X_test, y_train, y_test = train_test_split(images, labels, test_size=0.2, random_state=42)\n",
    "clf = SVC(kernel='poly', C=1, random_state=42)\n",
    "clf.fit(X_train, y_train)\n",
    "accuracy = clf.score(X_test, y_test)\n",
    "print(f'Accuracy: {accuracy:.3f}')"
   ]
  }
 ],
 "metadata": {
  "kernelspec": {
   "display_name": "Python 3",
   "language": "python",
   "name": "python3"
  },
  "language_info": {
   "codemirror_mode": {
    "name": "ipython",
    "version": 3
   },
   "file_extension": ".py",
   "mimetype": "text/x-python",
   "name": "python",
   "nbconvert_exporter": "python",
   "pygments_lexer": "ipython3",
   "version": "3.10.0"
  },
  "orig_nbformat": 4
 },
 "nbformat": 4,
 "nbformat_minor": 2
}
