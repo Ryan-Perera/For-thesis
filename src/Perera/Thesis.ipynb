{
 "cells": [
  {
   "cell_type": "code",
   "execution_count": null,
   "id": "e1f236f9-922f-47d6-9438-c0d058a172a5",
   "metadata": {},
   "outputs": [],
   "source": [
    "import math \n",
    "import os\n",
    "import json\n",
    "import csv\n",
    "import cv2 as cv\n",
    "import numpy as np\n",
    "import pandas as pd\n",
    "import matplotlib.pyplot as plt\n",
    "from sklearn.svm import SVC\n",
    "from skimage.feature import graycoprops, graycomatrix, local_binary_pattern, hog\n",
    "from sklearn.metrics import classification_report\n",
    "from sklearn.model_selection import train_test_split\n",
    "from skimage import data, exposure, io\n",
    "from sklearn.preprocessing import StandardScaler"
   ]
  },
  {
   "cell_type": "code",
   "execution_count": null,
   "id": "7d39c3f5",
   "metadata": {},
   "outputs": [],
   "source": [
    "json_file = r\"C:\\Users\\mdrsp\\Desktop\\School\\For thesis\\spv_images\\InfraredSolarModules\\module_metadata.json\"\n",
    "avg_glcmfeatures_nopreprocess_csv = r\"C:\\Users\\mdrsp\\Desktop\\School\\For thesis\\csv_files\\AVG_glcm_features_no_preprocessing.csv\"\n",
    "glcmfeatures_nopreprocess_csv = r\"C:\\Users\\mdrsp\\Desktop\\School\\For thesis\\csv_files\\glcm_features_no_preprocessing.csv\"\n",
    "\n",
    "sample_img_path = r\"C:\\Users\\mdrsp\\Desktop\\School\\For thesis\\spv_images\\InfraredSolarModules\\images\\0.jpg\" # path to sample image for testing the code\n",
    "\n",
    "path_2_images = r\"C:\\Users\\mdrsp\\Desktop\\School\\For thesis\\spv_images\\InfraredSolarModules\""
   ]
  },
  {
   "attachments": {},
   "cell_type": "markdown",
   "id": "e49cd808",
   "metadata": {},
   "source": [
    "pre processing and feature extraction functions takes in array input and not the file path!!"
   ]
  },
  {
   "cell_type": "code",
   "execution_count": null,
   "id": "c77715a9",
   "metadata": {},
   "outputs": [],
   "source": [
    "# some simple but important functions\n",
    "\n",
    "# takes in a path and returns the np array\n",
    "def path2img(path):\n",
    "    img = io.imread(path,as_gray=True)\n",
    "    return img"
   ]
  },
  {
   "cell_type": "code",
   "execution_count": null,
   "id": "e1c418c1",
   "metadata": {},
   "outputs": [],
   "source": [
    "# Pre processing.\n",
    "# function includes grascale conversion, Histogram equalization, adn noise filering\n",
    "# gabor_filtering is used for noise filtering. \n",
    "\n",
    "def pre_processing(img):\n",
    "    hist_img = cv.equalizeHist(img)\n",
    "    gabor_filter = create_gaborfilter()\n",
    "    filtered_image = filtering(hist_img, gabor_filter) \n",
    "    return filtered_image\n",
    "\n",
    "def create_gaborfilter():\n",
    "    filters = []\n",
    "    num = 16\n",
    "    sigma = 1.0\n",
    "    lambd = 30\n",
    "    gamma = 0.25\n",
    "    psi = 0\n",
    "    for theta in np.arange(0, np.pi, np.pi/num):\n",
    "        kern = cv.getGaborKernel((3,3), sigma, theta, lambd, gamma, psi, ktype=cv.CV_64F)\n",
    "        kern /= 1.0*kern.sum()\n",
    "        filters.append(kern)\n",
    "    return filters\n",
    "\n",
    "def filtering(img, filters):  \n",
    "    newimage = np.zeros_like(img)\n",
    "    depth = -1\n",
    "    for kernels in filters:\n",
    "        image_filter = cv.filter2D(img, depth, kernels) \n",
    "        np.maximum(newimage, image_filter, newimage)\n",
    "    return newimage\n",
    "\n"
   ]
  },
  {
   "cell_type": "code",
   "execution_count": null,
   "id": "6c7012f7",
   "metadata": {},
   "outputs": [],
   "source": [
    "def apply_gaussian_filter(image, kernel_size=(5, 5), sigma=0):\n",
    "    return cv.GaussianBlur(image, kernel_size, sigma)"
   ]
  },
  {
   "cell_type": "code",
   "execution_count": null,
   "id": "7bd87392",
   "metadata": {},
   "outputs": [],
   "source": []
  },
  {
   "cell_type": "code",
   "execution_count": null,
   "id": "d539b55b",
   "metadata": {},
   "outputs": [],
   "source": [
    "# Filtering funtions\n",
    "\n",
    "import cv2\n",
    "import numpy as np\n",
    "\n",
    "def apply_gabor_filter(image, ksize, sigma, theta, lambd, gamma):\n",
    "    \"\"\"\n",
    "    Applies a Gabor filter to the input grayscale image.\n",
    "    \"\"\"\n",
    "    kernel = cv2.getGaborKernel((ksize, ksize), sigma, theta, lambd, gamma, 0, ktype=cv2.CV_32F)\n",
    "    filtered_image = cv2.filter2D(image, cv2.CV_8UC3, kernel)\n",
    "    return filtered_image\n",
    "\n",
    "# Load the input image in grayscale\n",
    "image = cv2.imread(sample_img_path, cv2.IMREAD_GRAYSCALE)\n",
    "\n",
    "# Apply the Gabor filter with the specified parameters\n",
    "ksize = 31  # Kernel size\n",
    "sigma = 5  # Standard deviation of the Gaussian envelope\n",
    "theta = np.pi / 4  # Orientation of the normal to the parallel stripes of the Gabor function\n",
    "lambd = 10  # Wavelength of the sinusoidal factor\n",
    "gamma = 0.5  # Spatial aspect ratio\n",
    "filtered_image = apply_gabor_filter(image, ksize, sigma, theta, lambd, gamma)\n",
    "\n",
    "# Display the filtered image\n",
    "cv2.imshow('Filtered Image', filtered_image)\n"
   ]
  },
  {
   "cell_type": "code",
   "execution_count": null,
   "id": "7c256b2a",
   "metadata": {},
   "outputs": [],
   "source": [
    "# Feature extraraction functions, all return np.ndarrays\n",
    "\n",
    "# Gray-Level Co-Occurrence Matrix\n",
    "def glcm_features(img):    \n",
    "    # Calculate the GLCM\n",
    "    distances = [1, 2, 3]  # You can change the distances here\n",
    "    angles = [0, np.pi/4, np.pi/2, 3*np.pi/4]  # You can change the angles here\n",
    "    glcm = graycomatrix(img, distances=distances, angles=angles, levels=256,\n",
    "                        symmetric=True, normed=True)\n",
    "    \n",
    "    # Calculate the GLCM features\n",
    "    homogeneity = graycoprops(glcm, 'homogeneity')\n",
    "    contrast = graycoprops(glcm, 'contrast')\n",
    "    energy = graycoprops(glcm, 'energy')\n",
    "    dissimilarity = graycoprops(glcm, 'dissimilarity')\n",
    "    correlation = graycoprops(glcm, 'correlation')\n",
    "    asm = graycoprops(glcm, 'ASM') \n",
    "    \n",
    "    features = np.array([homogeneity, contrast, energy, dissimilarity, asm, correlation])\n",
    "    return features\n",
    "\n",
    "\n",
    "# Local binary Pattern\n",
    "def lbp_features(img):\n",
    "    from skimage.feature import local_binary_pattern\n",
    "    radius = 3\n",
    "    n_points = 8 * radius\n",
    "    lbp_value = local_binary_pattern(img, n_points,radius)\n",
    "    return lbp_value\n",
    "\n",
    "\n",
    "# Histogram of oriented gradients\n",
    "def hog_features(img):\n",
    "    # Calculate the HOG features\n",
    "    fd, hog_image = hog(img, orientations=8, pixels_per_cell=(16, 16),\n",
    "                        cells_per_block=(1, 1), visualize=True)\n",
    "\n",
    "    return fd\n"
   ]
  },
  {
   "cell_type": "code",
   "execution_count": null,
   "id": "82214aac",
   "metadata": {},
   "outputs": [],
   "source": [
    "sample_img = path2img(sample_img_path)\n",
    "print(sample_img)"
   ]
  },
  {
   "cell_type": "code",
   "execution_count": null,
   "id": "665fabe2",
   "metadata": {},
   "outputs": [],
   "source": [
    "glcm_features(sample_img)"
   ]
  },
  {
   "cell_type": "code",
   "execution_count": null,
   "id": "8b665789",
   "metadata": {},
   "outputs": [],
   "source": [
    "lbp_features(sample_img)"
   ]
  },
  {
   "cell_type": "code",
   "execution_count": null,
   "id": "7e0fbfdc",
   "metadata": {},
   "outputs": [],
   "source": [
    "hog_features(sample_img)"
   ]
  },
  {
   "cell_type": "code",
   "execution_count": null,
   "id": "810f62a0",
   "metadata": {},
   "outputs": [],
   "source": [
    "# this code just create a new json file with updated classes\n",
    "file = open(json_file)\n",
    "data = json.load(file)\n",
    "new_data = dict()\n",
    "\n",
    "for key,value in data.items():\n",
    "    current_img = value['image_filepath']\n",
    "    anomaly = value['anomaly_class']\n",
    "    if anomaly in [\"Cell\", \"Cell-Multi\", \"Hot-Spot-Multi\"]:\n",
    "        anomaly = \"Hot-Spot\"\n",
    "    elif anomaly ==\"Diode-Multi\":\n",
    "        anomaly = \"Diode\"\n",
    "    elif anomaly == \"Vegetation\" or anomaly == \"Soiling\":\n",
    "        anomaly = \"Shadowing\"\n",
    "    \n",
    "    new_data[key] = {'image_filepath':current_img, 'anomaly_class':anomaly }\n",
    "    \n",
    "\n",
    "json_object = json.dumps(new_data)\n",
    "with open(r\"C:\\Users\\mdrsp\\Desktop\\School\\For thesis\\spv_images\\InfraredSolarModules\\module_metadata_update.json\", 'w') as f:\n",
    "    f.write(json_object)"
   ]
  },
  {
   "cell_type": "code",
   "execution_count": 50,
   "id": "5079e807",
   "metadata": {},
   "outputs": [],
   "source": [
    "updated_json = r\"C:\\Users\\mdrsp\\Desktop\\School\\For thesis\\spv_images\\InfraredSolarModules\\module_metadata_update.json\"\n",
    "file = open(updated_json)\n",
    "data = json.load(file)\n",
    "\n",
    "images = []\n",
    "labels = []\n",
    "\n",
    "os.chdir(path_2_images)\n",
    "for key,value in data.items():\n",
    "    current_img_path = value['image_filepath']\n",
    "    anomaly = value['anomaly_class']\n",
    "\n",
    "    img = path2img(current_img_path)\n",
    "    #img = apply_gaussian_filter(img)\n",
    "   \n",
    "    lbp_value = np.ravel(lbp_features(img))\n",
    "    glcm_value = np.ravel(glcm_features(img))\n",
    "    hog_value = np.ravel(hog_features(img))   \n",
    "\n",
    "    feature_vector = np.concatenate((glcm_value,lbp_value, hog_value))\n",
    "    #feature_vector = np.ravel(feature_vector)\n",
    "       \n",
    "    images.append(feature_vector)\n",
    "    labels.append(anomaly)  \n",
    "    "
   ]
  },
  {
   "cell_type": "code",
   "execution_count": 58,
   "id": "edfe6550",
   "metadata": {},
   "outputs": [
    {
     "name": "stdout",
     "output_type": "stream",
     "text": [
      "Accuracy: 0.675\n"
     ]
    }
   ],
   "source": [
    "# Convert the lists to NumPy arrays\n",
    "images = np.array(images)\n",
    "labels = np.array(labels)\n",
    "\n",
    "#normalize images array\n",
    "scaler = StandardScaler()\n",
    "images = scaler.fit_transform(images)\n",
    "\n",
    "# Split the data into training and testing sets\n",
    "X_train, X_test, y_train, y_test = train_test_split(images, labels, test_size=0.2, random_state=42)\n",
    "\n",
    "# Train an SVM classifier\n",
    "clf = SVC(kernel='poly', C=1, random_state=42)\n",
    "clf.fit(X_train, y_train)\n",
    "\n",
    "# Test the SVM classifier\n",
    "accuracy = clf.score(X_test, y_test)\n",
    "print(f'Accuracy: {accuracy:.3f}')"
   ]
  },
  {
   "cell_type": "code",
   "execution_count": 59,
   "id": "25f543f9",
   "metadata": {},
   "outputs": [
    {
     "name": "stdout",
     "output_type": "stream",
     "text": [
      "                precision    recall  f1-score   support\n",
      "\n",
      "      Cracking       0.21      0.68      0.32        57\n",
      "         Diode       0.84      0.92      0.88       304\n",
      "      Hot-Spot       0.31      0.60      0.41       379\n",
      "    No-Anomaly       0.97      0.66      0.79      2964\n",
      "Offline-Module       0.12      0.77      0.22        26\n",
      "     Shadowing       0.32      0.68      0.44       270\n",
      "\n",
      "      accuracy                           0.68      4000\n",
      "     macro avg       0.46      0.72      0.51      4000\n",
      "  weighted avg       0.84      0.68      0.72      4000\n",
      "\n"
     ]
    }
   ],
   "source": [
    "prediction = clf.predict(X_test)\n",
    "print(classification_report(prediction, y_test))"
   ]
  }
 ],
 "metadata": {
  "kernelspec": {
   "display_name": "Python 3",
   "language": "python",
   "name": "python3"
  },
  "language_info": {
   "codemirror_mode": {
    "name": "ipython",
    "version": 3
   },
   "file_extension": ".py",
   "mimetype": "text/x-python",
   "name": "python",
   "nbconvert_exporter": "python",
   "pygments_lexer": "ipython3",
   "version": "3.10.0"
  },
  "vscode": {
   "interpreter": {
    "hash": "99a5c88ead889899b58dec92d4eec1502b30171923f898f48cc03373d4a3b5e6"
   }
  }
 },
 "nbformat": 4,
 "nbformat_minor": 5
}
